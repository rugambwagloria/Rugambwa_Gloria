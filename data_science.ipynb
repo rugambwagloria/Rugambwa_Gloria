{
 "cells": [
  {
   "cell_type": "code",
   "execution_count": 1,
   "id": "42294f7f",
   "metadata": {},
   "outputs": [
    {
     "name": "stdout",
     "output_type": "stream",
     "text": [
      "i love data science!!\n"
     ]
    }
   ],
   "source": [
    "print(\"i love data science!!\")"
   ]
  },
  {
   "cell_type": "code",
   "execution_count": 1,
   "id": "eebd516d",
   "metadata": {},
   "outputs": [
    {
     "data": {
      "text/plain": [
       "22"
      ]
     },
     "execution_count": 1,
     "metadata": {},
     "output_type": "execute_result"
    }
   ],
   "source": [
    "#Reading and writing files\n",
    "file=open(\"data.txt\", \"w\")\n",
    "file.write(\"I love data science!!\\n\")\n"
   ]
  },
  {
   "cell_type": "code",
   "execution_count": 9,
   "id": "7e1a0df3",
   "metadata": {},
   "outputs": [
    {
     "name": "stdout",
     "output_type": "stream",
     "text": [
      "I love data science!!\n",
      "\n"
     ]
    }
   ],
   "source": [
    "with open(\"data.txt\", \"r\") as f:\n",
    "\tdata = f.read()\n",
    "print(data)"
   ]
  },
  {
   "cell_type": "code",
   "execution_count": 11,
   "id": "c27e4e4f",
   "metadata": {},
   "outputs": [],
   "source": [
    "#writing to a file\n",
    "with open(\"gloria.txt\", \"w\") as file:\n",
    "    file.write(\"hello.This is Gloria.How are u?\\n\")\n",
    "    file.write(\"I am fine.Thank you.\\n\")"
   ]
  },
  {
   "cell_type": "code",
   "execution_count": 13,
   "id": "d8cb0386",
   "metadata": {},
   "outputs": [],
   "source": [
    "with open(\"gloria.txt\", \"a\") as file:\n",
    "    file.write(\"I am learning Python.\\n\")\n",
    "# Reading from a file\n",
    "with open(\"gloria.txt\", \"r\") as file:\n",
    "    # Read the entire content of the file\n",
    "    content = file.read()"
   ]
  }
 ],
 "metadata": {
  "kernelspec": {
   "display_name": "base",
   "language": "python",
   "name": "python3"
  },
  "language_info": {
   "codemirror_mode": {
    "name": "ipython",
    "version": 3
   },
   "file_extension": ".py",
   "mimetype": "text/x-python",
   "name": "python",
   "nbconvert_exporter": "python",
   "pygments_lexer": "ipython3",
   "version": "3.12.7"
  }
 },
 "nbformat": 4,
 "nbformat_minor": 5
}
