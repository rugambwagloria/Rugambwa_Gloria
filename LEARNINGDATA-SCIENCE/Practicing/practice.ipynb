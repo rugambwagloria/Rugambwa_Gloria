{
 "cells": [
  {
   "cell_type": "code",
   "execution_count": 1,
   "id": "811eb0b4",
   "metadata": {},
   "outputs": [],
   "source": [
    "import pandas as pd\n",
    "import numpy as np\n",
    "import matplotlib.pyplot as plt\n",
    "import seaborn as sns"
   ]
  },
  {
   "cell_type": "code",
   "execution_count": 9,
   "id": "79b6712d",
   "metadata": {},
   "outputs": [
    {
     "name": "stdout",
     "output_type": "stream",
     "text": [
      "   Order ID  Customer Name   Order Date   Product  Quantity  Unit Price  Total Revenue\n",
      "0      1001       John Doe   01/01/2024  Widget A      10.0        25.0          250.0\n",
      "1      1002     Jane Smith   01/02/2024  Widget B       5.0        40.0          200.0\n",
      "2      1003            NaN  2024/01/03'  Widget A       NaN        25.0            NaN\n",
      "3      1004  Alice Johnson   04/01/2024  Widget C       3.0         NaN          210.0\n",
      "4      1005      Bob Brown  2024/01/05'  Widget B      10.0        40.0          400.0\n",
      "5      1006       John Doe   06/01/2024  Widget A       4.0        25.0          100.0\n",
      "6      1001       John Doe   01/01/2024  Widget A      10.0        25.0          250.0\n",
      "7      1007     Jane Smith   07/01/2024  Widget C      -6.0        70.0         -420.0\n"
     ]
    }
   ],
   "source": [
    "df= pd.read_csv('Sales(1).csv')\n",
    "print(df.to_string())"
   ]
  },
  {
   "cell_type": "code",
   "execution_count": 11,
   "id": "9fc2fc08",
   "metadata": {},
   "outputs": [
    {
     "data": {
      "text/html": [
       "<div>\n",
       "<style scoped>\n",
       "    .dataframe tbody tr th:only-of-type {\n",
       "        vertical-align: middle;\n",
       "    }\n",
       "\n",
       "    .dataframe tbody tr th {\n",
       "        vertical-align: top;\n",
       "    }\n",
       "\n",
       "    .dataframe thead th {\n",
       "        text-align: right;\n",
       "    }\n",
       "</style>\n",
       "<table border=\"1\" class=\"dataframe\">\n",
       "  <thead>\n",
       "    <tr style=\"text-align: right;\">\n",
       "      <th></th>\n",
       "      <th>Order ID</th>\n",
       "      <th>Customer Name</th>\n",
       "      <th>Order Date</th>\n",
       "      <th>Product</th>\n",
       "      <th>Quantity</th>\n",
       "      <th>Unit Price</th>\n",
       "      <th>Total Revenue</th>\n",
       "    </tr>\n",
       "  </thead>\n",
       "  <tbody>\n",
       "    <tr>\n",
       "      <th>3</th>\n",
       "      <td>1004</td>\n",
       "      <td>Alice Johnson</td>\n",
       "      <td>04/01/2024</td>\n",
       "      <td>Widget C</td>\n",
       "      <td>3.0</td>\n",
       "      <td>NaN</td>\n",
       "      <td>210.0</td>\n",
       "    </tr>\n",
       "    <tr>\n",
       "      <th>4</th>\n",
       "      <td>1005</td>\n",
       "      <td>Bob Brown</td>\n",
       "      <td>2024/01/05'</td>\n",
       "      <td>Widget B</td>\n",
       "      <td>10.0</td>\n",
       "      <td>40.0</td>\n",
       "      <td>400.0</td>\n",
       "    </tr>\n",
       "    <tr>\n",
       "      <th>5</th>\n",
       "      <td>1006</td>\n",
       "      <td>John Doe</td>\n",
       "      <td>06/01/2024</td>\n",
       "      <td>Widget A</td>\n",
       "      <td>4.0</td>\n",
       "      <td>25.0</td>\n",
       "      <td>100.0</td>\n",
       "    </tr>\n",
       "    <tr>\n",
       "      <th>6</th>\n",
       "      <td>1001</td>\n",
       "      <td>John Doe</td>\n",
       "      <td>01/01/2024</td>\n",
       "      <td>Widget A</td>\n",
       "      <td>10.0</td>\n",
       "      <td>25.0</td>\n",
       "      <td>250.0</td>\n",
       "    </tr>\n",
       "    <tr>\n",
       "      <th>7</th>\n",
       "      <td>1007</td>\n",
       "      <td>Jane Smith</td>\n",
       "      <td>07/01/2024</td>\n",
       "      <td>Widget C</td>\n",
       "      <td>-6.0</td>\n",
       "      <td>70.0</td>\n",
       "      <td>-420.0</td>\n",
       "    </tr>\n",
       "  </tbody>\n",
       "</table>\n",
       "</div>"
      ],
      "text/plain": [
       "   Order ID  Customer Name   Order Date   Product  Quantity  Unit Price  \\\n",
       "3      1004  Alice Johnson   04/01/2024  Widget C       3.0         NaN   \n",
       "4      1005      Bob Brown  2024/01/05'  Widget B      10.0        40.0   \n",
       "5      1006       John Doe   06/01/2024  Widget A       4.0        25.0   \n",
       "6      1001       John Doe   01/01/2024  Widget A      10.0        25.0   \n",
       "7      1007     Jane Smith   07/01/2024  Widget C      -6.0        70.0   \n",
       "\n",
       "   Total Revenue  \n",
       "3          210.0  \n",
       "4          400.0  \n",
       "5          100.0  \n",
       "6          250.0  \n",
       "7         -420.0  "
      ]
     },
     "execution_count": 11,
     "metadata": {},
     "output_type": "execute_result"
    }
   ],
   "source": [
    "df.tail()"
   ]
  },
  {
   "cell_type": "code",
   "execution_count": 12,
   "id": "a570b645",
   "metadata": {},
   "outputs": [
    {
     "data": {
      "text/html": [
       "<div>\n",
       "<style scoped>\n",
       "    .dataframe tbody tr th:only-of-type {\n",
       "        vertical-align: middle;\n",
       "    }\n",
       "\n",
       "    .dataframe tbody tr th {\n",
       "        vertical-align: top;\n",
       "    }\n",
       "\n",
       "    .dataframe thead th {\n",
       "        text-align: right;\n",
       "    }\n",
       "</style>\n",
       "<table border=\"1\" class=\"dataframe\">\n",
       "  <thead>\n",
       "    <tr style=\"text-align: right;\">\n",
       "      <th></th>\n",
       "      <th>Order ID</th>\n",
       "      <th>Customer Name</th>\n",
       "      <th>Order Date</th>\n",
       "      <th>Product</th>\n",
       "      <th>Quantity</th>\n",
       "      <th>Unit Price</th>\n",
       "      <th>Total Revenue</th>\n",
       "    </tr>\n",
       "  </thead>\n",
       "  <tbody>\n",
       "    <tr>\n",
       "      <th>5</th>\n",
       "      <td>1006</td>\n",
       "      <td>John Doe</td>\n",
       "      <td>06/01/2024</td>\n",
       "      <td>Widget A</td>\n",
       "      <td>4.0</td>\n",
       "      <td>25.0</td>\n",
       "      <td>100.0</td>\n",
       "    </tr>\n",
       "    <tr>\n",
       "      <th>6</th>\n",
       "      <td>1001</td>\n",
       "      <td>John Doe</td>\n",
       "      <td>01/01/2024</td>\n",
       "      <td>Widget A</td>\n",
       "      <td>10.0</td>\n",
       "      <td>25.0</td>\n",
       "      <td>250.0</td>\n",
       "    </tr>\n",
       "    <tr>\n",
       "      <th>7</th>\n",
       "      <td>1007</td>\n",
       "      <td>Jane Smith</td>\n",
       "      <td>07/01/2024</td>\n",
       "      <td>Widget C</td>\n",
       "      <td>-6.0</td>\n",
       "      <td>70.0</td>\n",
       "      <td>-420.0</td>\n",
       "    </tr>\n",
       "  </tbody>\n",
       "</table>\n",
       "</div>"
      ],
      "text/plain": [
       "   Order ID Customer Name  Order Date   Product  Quantity  Unit Price  \\\n",
       "5      1006      John Doe  06/01/2024  Widget A       4.0        25.0   \n",
       "6      1001      John Doe  01/01/2024  Widget A      10.0        25.0   \n",
       "7      1007    Jane Smith  07/01/2024  Widget C      -6.0        70.0   \n",
       "\n",
       "   Total Revenue  \n",
       "5          100.0  \n",
       "6          250.0  \n",
       "7         -420.0  "
      ]
     },
     "execution_count": 12,
     "metadata": {},
     "output_type": "execute_result"
    }
   ],
   "source": [
    "df.tail(3)"
   ]
  },
  {
   "cell_type": "code",
   "execution_count": 18,
   "id": "bd2688cc",
   "metadata": {},
   "outputs": [],
   "source": [
    "df.loc[8] = ['1008', 'Rugambwa', '08/01/2024', 'Widget A', 4.2, 30.0, 300.0]\n"
   ]
  },
  {
   "cell_type": "code",
   "execution_count": 19,
   "id": "99ad0623",
   "metadata": {},
   "outputs": [],
   "source": [
    "df['Discount'] = 0"
   ]
  },
  {
   "cell_type": "code",
   "execution_count": 22,
   "id": "78a268ee",
   "metadata": {},
   "outputs": [
    {
     "name": "stdout",
     "output_type": "stream",
     "text": [
      "Index(['Order ID', 'Customer Name', 'Order Date', 'Product', 'Quantity',\n",
      "       'Unit Price', 'Total Revenue', 'Discount'],\n",
      "      dtype='object')\n"
     ]
    }
   ],
   "source": [
    "print(df.columns)"
   ]
  },
  {
   "cell_type": "code",
   "execution_count": 24,
   "id": "1c189de3",
   "metadata": {},
   "outputs": [],
   "source": [
    "df.loc[9]=['1009', 'Rugambwa', '08/01/2024', 'Widget A', 4.2, 30.0, 300.0, 0]"
   ]
  },
  {
   "cell_type": "code",
   "execution_count": 26,
   "id": "3e0152a6",
   "metadata": {},
   "outputs": [
    {
     "data": {
      "text/plain": [
       "<bound method NDFrame.to_clipboard of   Order ID  Customer Name   Order Date   Product  Quantity  Unit Price  \\\n",
       "0     1001       John Doe   01/01/2024  Widget A      10.0        25.0   \n",
       "1     1002     Jane Smith   01/02/2024  Widget B       5.0        40.0   \n",
       "2     1003            NaN  2024/01/03'  Widget A       NaN        25.0   \n",
       "3     1004  Alice Johnson   04/01/2024  Widget C       3.0         NaN   \n",
       "4     1005      Bob Brown  2024/01/05'  Widget B      10.0        40.0   \n",
       "5     1006       John Doe   06/01/2024  Widget A       4.0        25.0   \n",
       "6     1001       John Doe   01/01/2024  Widget A      10.0        25.0   \n",
       "7     1007     Jane Smith   07/01/2024  Widget C      -6.0        70.0   \n",
       "8     1008       Rugambwa   08/01/2024  Widget A       4.2        30.0   \n",
       "9     1009       Rugambwa   08/01/2024  Widget A       4.2        30.0   \n",
       "\n",
       "   Total Revenue  Discount  \n",
       "0          250.0         0  \n",
       "1          200.0         0  \n",
       "2            NaN         0  \n",
       "3          210.0         0  \n",
       "4          400.0         0  \n",
       "5          100.0         0  \n",
       "6          250.0         0  \n",
       "7         -420.0         0  \n",
       "8          300.0         0  \n",
       "9          300.0         0  >"
      ]
     },
     "execution_count": 26,
     "metadata": {},
     "output_type": "execute_result"
    }
   ],
   "source": [
    "df.to_clipboard"
   ]
  },
  {
   "cell_type": "code",
   "execution_count": 29,
   "id": "a53e8106",
   "metadata": {},
   "outputs": [
    {
     "data": {
      "text/plain": [
       "<bound method DataFrame.to_string of   Order ID  Customer Name   Order Date   Product  Quantity  Unit Price  \\\n",
       "0     1001       John Doe   01/01/2024  Widget A      10.0        25.0   \n",
       "1     1002     Jane Smith   01/02/2024  Widget B       5.0        40.0   \n",
       "2     1003            NaN  2024/01/03'  Widget A       NaN        25.0   \n",
       "3     1004  Alice Johnson   04/01/2024  Widget C       3.0         NaN   \n",
       "4     1005      Bob Brown  2024/01/05'  Widget B      10.0        40.0   \n",
       "5     1006       John Doe   06/01/2024  Widget A       4.0        25.0   \n",
       "6     1001       John Doe   01/01/2024  Widget A      10.0        25.0   \n",
       "7     1007     Jane Smith   07/01/2024  Widget C      -6.0        70.0   \n",
       "8     1008       Rugambwa   08/01/2024  Widget A       4.2        30.0   \n",
       "9     1009       Rugambwa   08/01/2024  Widget A       4.2        30.0   \n",
       "\n",
       "   Total Revenue  Discount  \n",
       "0          250.0      10.0  \n",
       "1          200.0      20.0  \n",
       "2            NaN      30.0  \n",
       "3          210.0      40.0  \n",
       "4          400.0      50.0  \n",
       "5          100.0      60.0  \n",
       "6          250.0      70.0  \n",
       "7         -420.0      80.0  \n",
       "8          300.0      90.0  \n",
       "9          300.0     100.0  >"
      ]
     },
     "execution_count": 29,
     "metadata": {},
     "output_type": "execute_result"
    }
   ],
   "source": [
    "df['Discount']=[10, 20, 30, 40, 50, 60, 70, 80, 90, 100]\n",
    "df['Discount'] = df['Discount'].astype(float)\n",
    "df.to_string"
   ]
  },
  {
   "cell_type": "code",
   "execution_count": 30,
   "id": "18e8f041",
   "metadata": {},
   "outputs": [
    {
     "data": {
      "text/plain": [
       "Order ID         0\n",
       "Customer Name    1\n",
       "Order Date       0\n",
       "Product          0\n",
       "Quantity         1\n",
       "Unit Price       1\n",
       "Total Revenue    1\n",
       "Discount         0\n",
       "dtype: int64"
      ]
     },
     "execution_count": 30,
     "metadata": {},
     "output_type": "execute_result"
    }
   ],
   "source": [
    "df.isna().sum()"
   ]
  },
  {
   "cell_type": "code",
   "execution_count": 32,
   "id": "bb9d763d",
   "metadata": {},
   "outputs": [
    {
     "data": {
      "text/plain": [
       "Order ID          9\n",
       "Customer Name     5\n",
       "Order Date        8\n",
       "Product           3\n",
       "Quantity          6\n",
       "Unit Price        4\n",
       "Total Revenue     7\n",
       "Discount         10\n",
       "dtype: int64"
      ]
     },
     "execution_count": 32,
     "metadata": {},
     "output_type": "execute_result"
    }
   ],
   "source": [
    "df.nunique()"
   ]
  },
  {
   "cell_type": "code",
   "execution_count": 33,
   "id": "089f70a6",
   "metadata": {},
   "outputs": [
    {
     "data": {
      "text/plain": [
       "array(['John Doe', 'Jane Smith', nan, 'Alice Johnson', 'Bob Brown',\n",
       "       'Rugambwa'], dtype=object)"
      ]
     },
     "execution_count": 33,
     "metadata": {},
     "output_type": "execute_result"
    }
   ],
   "source": [
    "df['Customer Name'].unique()\n"
   ]
  },
  {
   "cell_type": "code",
   "execution_count": 34,
   "id": "ebffbf4e",
   "metadata": {},
   "outputs": [
    {
     "data": {
      "text/plain": [
       "Customer Name\n",
       "John Doe         3\n",
       "Jane Smith       2\n",
       "Rugambwa         2\n",
       "Alice Johnson    1\n",
       "Bob Brown        1\n",
       "Name: count, dtype: int64"
      ]
     },
     "execution_count": 34,
     "metadata": {},
     "output_type": "execute_result"
    }
   ],
   "source": [
    "df['Customer Name'].value_counts()"
   ]
  },
  {
   "cell_type": "code",
   "execution_count": 36,
   "id": "ae9f3f1b",
   "metadata": {},
   "outputs": [
    {
     "name": "stdout",
     "output_type": "stream",
     "text": [
      "  Order ID  Customer Name   Order Date   Product  Quantity  Unit Price  Total Revenue  Discount\n",
      "0     1001       John Doe   01/01/2024  Widget A      10.0        25.0          250.0      10.0\n",
      "1     1002     Jane Smith   01/02/2024  Widget B       5.0        40.0          200.0      20.0\n",
      "2     1003            NaN  2024/01/03'  Widget A       NaN        25.0            NaN      30.0\n",
      "3     1004  Alice Johnson   04/01/2024  Widget C       3.0         NaN          210.0      40.0\n",
      "4     1005      Bob Brown  2024/01/05'  Widget B      10.0        40.0          400.0      50.0\n",
      "5     1006       John Doe   06/01/2024  Widget A       4.0        25.0          100.0      60.0\n",
      "6     1001       John Doe   01/01/2024  Widget A      10.0        25.0          250.0      70.0\n",
      "7     1007     Jane Smith   07/01/2024  Widget C      -6.0        70.0         -420.0      80.0\n",
      "8     1008       Rugambwa   08/01/2024  Widget A       4.2        30.0          300.0      90.0\n",
      "9     1009       Rugambwa   08/01/2024  Widget A       4.2        30.0          300.0     100.0\n"
     ]
    }
   ],
   "source": [
    "print(df.to_string())"
   ]
  },
  {
   "cell_type": "code",
   "execution_count": 37,
   "id": "c5f5bf7a",
   "metadata": {},
   "outputs": [
    {
     "data": {
      "text/plain": [
       "array([10. ,  5. ,  nan,  3. ,  4. , -6. ,  4.2])"
      ]
     },
     "execution_count": 37,
     "metadata": {},
     "output_type": "execute_result"
    }
   ],
   "source": [
    "df['Quantity'].unique()"
   ]
  },
  {
   "cell_type": "code",
   "execution_count": 44,
   "id": "155bc104",
   "metadata": {},
   "outputs": [
    {
     "data": {
      "text/html": [
       "<div>\n",
       "<style scoped>\n",
       "    .dataframe tbody tr th:only-of-type {\n",
       "        vertical-align: middle;\n",
       "    }\n",
       "\n",
       "    .dataframe tbody tr th {\n",
       "        vertical-align: top;\n",
       "    }\n",
       "\n",
       "    .dataframe thead th {\n",
       "        text-align: right;\n",
       "    }\n",
       "</style>\n",
       "<table border=\"1\" class=\"dataframe\">\n",
       "  <thead>\n",
       "    <tr style=\"text-align: right;\">\n",
       "      <th></th>\n",
       "      <th>Order ID</th>\n",
       "      <th>Customer Name</th>\n",
       "      <th>Product</th>\n",
       "      <th>Quantity</th>\n",
       "      <th>Unit Price</th>\n",
       "      <th>Total Revenue</th>\n",
       "    </tr>\n",
       "  </thead>\n",
       "  <tbody>\n",
       "    <tr>\n",
       "      <th>0</th>\n",
       "      <td>1001</td>\n",
       "      <td>John Doe</td>\n",
       "      <td>Widget A</td>\n",
       "      <td>10.0</td>\n",
       "      <td>25.0</td>\n",
       "      <td>250.0</td>\n",
       "    </tr>\n",
       "    <tr>\n",
       "      <th>1</th>\n",
       "      <td>1002</td>\n",
       "      <td>Jane Smith</td>\n",
       "      <td>Widget B</td>\n",
       "      <td>5.0</td>\n",
       "      <td>40.0</td>\n",
       "      <td>200.0</td>\n",
       "    </tr>\n",
       "    <tr>\n",
       "      <th>2</th>\n",
       "      <td>1003</td>\n",
       "      <td>NaN</td>\n",
       "      <td>Widget A</td>\n",
       "      <td>NaN</td>\n",
       "      <td>25.0</td>\n",
       "      <td>NaN</td>\n",
       "    </tr>\n",
       "    <tr>\n",
       "      <th>3</th>\n",
       "      <td>1004</td>\n",
       "      <td>Alice Johnson</td>\n",
       "      <td>Widget C</td>\n",
       "      <td>3.0</td>\n",
       "      <td>NaN</td>\n",
       "      <td>210.0</td>\n",
       "    </tr>\n",
       "    <tr>\n",
       "      <th>4</th>\n",
       "      <td>1005</td>\n",
       "      <td>Bob Brown</td>\n",
       "      <td>Widget B</td>\n",
       "      <td>10.0</td>\n",
       "      <td>40.0</td>\n",
       "      <td>400.0</td>\n",
       "    </tr>\n",
       "  </tbody>\n",
       "</table>\n",
       "</div>"
      ],
      "text/plain": [
       "  Order ID  Customer Name   Product  Quantity  Unit Price  Total Revenue\n",
       "0     1001       John Doe  Widget A      10.0        25.0          250.0\n",
       "1     1002     Jane Smith  Widget B       5.0        40.0          200.0\n",
       "2     1003            NaN  Widget A       NaN        25.0            NaN\n",
       "3     1004  Alice Johnson  Widget C       3.0         NaN          210.0\n",
       "4     1005      Bob Brown  Widget B      10.0        40.0          400.0"
      ]
     },
     "execution_count": 44,
     "metadata": {},
     "output_type": "execute_result"
    }
   ],
   "source": [
    "df=df.drop(['Discount'], axis=1)\n",
    "df.head()"
   ]
  },
  {
   "cell_type": "code",
   "execution_count": null,
   "id": "d23e4cee",
   "metadata": {},
   "outputs": [],
   "source": []
  }
 ],
 "metadata": {
  "kernelspec": {
   "display_name": "base",
   "language": "python",
   "name": "python3"
  },
  "language_info": {
   "codemirror_mode": {
    "name": "ipython",
    "version": 3
   },
   "file_extension": ".py",
   "mimetype": "text/x-python",
   "name": "python",
   "nbconvert_exporter": "python",
   "pygments_lexer": "ipython3",
   "version": "3.12.7"
  }
 },
 "nbformat": 4,
 "nbformat_minor": 5
}
