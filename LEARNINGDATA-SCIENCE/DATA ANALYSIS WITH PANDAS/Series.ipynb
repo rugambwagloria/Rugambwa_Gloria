{
 "cells": [
  {
   "cell_type": "code",
   "execution_count": 1,
   "id": "bc1ba03e",
   "metadata": {},
   "outputs": [
    {
     "name": "stdout",
     "output_type": "stream",
     "text": [
      "Series 1:\n",
      " 0      4\n",
      "1     65\n",
      "2    436\n",
      "3      3\n",
      "4      9\n",
      "dtype: int64\n",
      "Series 2:\n",
      " 0      7\n",
      "1      0\n",
      "2      3\n",
      "3    897\n",
      "4      9\n",
      "dtype: int64\n",
      "\n",
      "Element-wise comparison:\n",
      "Equal:\n",
      " 0    False\n",
      "1    False\n",
      "2    False\n",
      "3    False\n",
      "4     True\n",
      "dtype: bool\n",
      "Greater:\n",
      " 0    False\n",
      "1     True\n",
      "2     True\n",
      "3    False\n",
      "4    False\n",
      "dtype: bool\n",
      "Less:\n",
      " 0     True\n",
      "1    False\n",
      "2    False\n",
      "3     True\n",
      "4    False\n",
      "dtype: bool\n"
     ]
    }
   ],
   "source": [
    "import pandas as pd\n",
    "\n",
    "series1 = pd.Series([4, 65, 436, 3, 9])\n",
    "series2 = pd.Series([7, 0, 3, 897, 9])\n",
    "\n",
    "print(\"Series 1:\\n\", series1)\n",
    "print(\"Series 2:\\n\", series2)\n",
    "\n",
    "print(\"\\nElement-wise comparison:\")\n",
    "print(\"Equal:\\n\", series1 == series2)\n",
    "print(\"Greater:\\n\", series1 > series2)\n",
    "print(\"Less:\\n\", series1 < series2)"
   ]
  },
  {
   "cell_type": "code",
   "execution_count": 2,
   "id": "f6fd9dbc",
   "metadata": {},
   "outputs": [
    {
     "name": "stdout",
     "output_type": "stream",
     "text": [
      "Addition:\n",
      " 0     11\n",
      "1     65\n",
      "2    439\n",
      "3    900\n",
      "4     18\n",
      "dtype: int64\n",
      "\n",
      "Subtraction:\n",
      " 0     -3\n",
      "1     65\n",
      "2    433\n",
      "3   -894\n",
      "4      0\n",
      "dtype: int64\n",
      "\n",
      "Multiplication:\n",
      " 0      28\n",
      "1       0\n",
      "2    1308\n",
      "3    2691\n",
      "4      81\n",
      "dtype: int64\n",
      "\n",
      "Division:\n",
      " 0      0.571429\n",
      "1           inf\n",
      "2    145.333333\n",
      "3      0.003344\n",
      "4      1.000000\n",
      "dtype: float64\n"
     ]
    }
   ],
   "source": [
    "add_result = series1 + series2\n",
    "sub_result = series1 - series2\n",
    "mul_result = series1 * series2\n",
    "div_result = series1 / series2\n",
    "\n",
    "print(\"Addition:\\n\", add_result)\n",
    "print(\"\\nSubtraction:\\n\", sub_result)\n",
    "print(\"\\nMultiplication:\\n\", mul_result)\n",
    "print(\"\\nDivision:\\n\", div_result)"
   ]
  },
  {
   "cell_type": "code",
   "execution_count": 3,
   "id": "44e41d75",
   "metadata": {},
   "outputs": [
    {
     "name": "stdout",
     "output_type": "stream",
     "text": [
      "Josh       24\n",
      "Sam        36\n",
      "Peace      19\n",
      "Charles    65\n",
      "Tom        44\n",
      "dtype: int64\n"
     ]
    }
   ],
   "source": [
    "dictionary1 = {'Josh': 24, 'Sam': 36, 'Peace': 19, 'Charles': 65, 'Tom': 44}\n",
    "series_from_dict = pd.Series(dictionary1)\n",
    "print(series_from_dict)"
   ]
  },
  {
   "cell_type": "code",
   "execution_count": 4,
   "id": "9ecb24ce",
   "metadata": {},
   "outputs": [
    {
     "name": "stdout",
     "output_type": "stream",
     "text": [
      "['Love' 800 'Joy' 789.9 'Peace' True]\n"
     ]
    }
   ],
   "source": [
    "sample_series = pd.Series(['Love', 800, 'Joy', 789.9, 'Peace', True])\n",
    "array_from_series = sample_series.values\n",
    "print(array_from_series)"
   ]
  }
 ],
 "metadata": {
  "kernelspec": {
   "display_name": "base",
   "language": "python",
   "name": "python3"
  },
  "language_info": {
   "codemirror_mode": {
    "name": "ipython",
    "version": 3
   },
   "file_extension": ".py",
   "mimetype": "text/x-python",
   "name": "python",
   "nbconvert_exporter": "python",
   "pygments_lexer": "ipython3",
   "version": "3.12.7"
  }
 },
 "nbformat": 4,
 "nbformat_minor": 5
}
